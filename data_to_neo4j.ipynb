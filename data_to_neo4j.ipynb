{
 "cells": [
  {
   "cell_type": "code",
   "execution_count": null,
   "metadata": {},
   "outputs": [],
   "source": [
    "import os\n",
    "import json\n",
    "import requests\n",
    "from torch_geometric.datasets import EllipticBitcoinDataset"
   ]
  },
  {
   "cell_type": "code",
   "execution_count": null,
   "metadata": {},
   "outputs": [],
   "source": [
    "base_url = 'http://localhost:5004'\n",
    "node_url = f\"{base_url}/api/nodes/batch\"\n",
    "edge_url = f\"{base_url}/api/edges/batch\"\n",
    "headers = {\"Content-Type\": \"application/json\"}"
   ]
  },
  {
   "cell_type": "code",
   "execution_count": 1,
   "metadata": {},
   "outputs": [],
   "source": [
    "root = 'EllipticBitcoin'\n",
    "dataset = EllipticBitcoinDataset(root)\n",
    "data = dataset[0]"
   ]
  },
  {
   "cell_type": "code",
   "execution_count": 2,
   "metadata": {},
   "outputs": [],
   "source": [
    "def read_n_to_last_line(filename, n=1):\n",
    "    \"\"\"Returns the nth before last line of a file (n=1 gives last line)\"\"\"\n",
    "    num_newlines = 0\n",
    "    with open(filename, 'rb') as f:\n",
    "        try:\n",
    "            f.seek(-2, os.SEEK_END)\n",
    "            while num_newlines < n:\n",
    "                f.seek(-2, os.SEEK_CUR)\n",
    "                if f.read(1) == b'\\n':\n",
    "                    num_newlines += 1\n",
    "        except OSError:\n",
    "            f.seek(0)\n",
    "        last_line = f.readline().decode()\n",
    "    return last_line\n",
    "\n",
    "def load_node_id_map(file_path):\n",
    "    node_id_map = {}\n",
    "    with open(file_path, 'r') as file:\n",
    "        for line in file:\n",
    "            entry = json.loads(line)\n",
    "            node_id_map[entry['orig_id']] = entry['new_id']\n",
    "    return node_id_map\n",
    "\n",
    "def get_node_id(node_id_map, orig_id):\n",
    "    return node_id_map.get(orig_id)"
   ]
  },
  {
   "cell_type": "code",
   "execution_count": 5,
   "metadata": {},
   "outputs": [
    {
     "name": "stdout",
     "output_type": "stream",
     "text": [
      "Nodes 0 to 9999 created successfully\n",
      "Nodes 10000 to 19999 created successfully\n",
      "Nodes 20000 to 29999 created successfully\n",
      "Nodes 30000 to 39999 created successfully\n",
      "Nodes 40000 to 49999 created successfully\n",
      "Nodes 50000 to 59999 created successfully\n",
      "Nodes 60000 to 69999 created successfully\n",
      "Nodes 70000 to 79999 created successfully\n",
      "Nodes 80000 to 89999 created successfully\n",
      "Nodes 90000 to 99999 created successfully\n",
      "Nodes 100000 to 109999 created successfully\n",
      "Nodes 110000 to 119999 created successfully\n",
      "Nodes 120000 to 129999 created successfully\n",
      "Nodes 130000 to 139999 created successfully\n",
      "Nodes 140000 to 149999 created successfully\n",
      "Nodes 150000 to 159999 created successfully\n",
      "Nodes 160000 to 169999 created successfully\n",
      "Nodes 170000 to 179999 created successfully\n",
      "Nodes 180000 to 189999 created successfully\n",
      "Nodes 190000 to 199999 created successfully\n",
      "Nodes 200000 to 203768 created successfully\n"
     ]
    }
   ],
   "source": [
    "node_batch_size = 10_000\n",
    "\n",
    "node_file = 'transaction_nodes.jsonl'\n",
    "start_index = 0\n",
    "\n",
    "if os.path.exists(node_file):\n",
    "    last_line = read_n_to_last_line(node_file, 1)\n",
    "    start_index = json.loads(last_line)['orig_id'] + 1\n",
    "\n",
    "total_nodes = len(data.x)\n",
    "\n",
    "with requests.Session() as session:\n",
    "    for start in range(start_index, total_nodes, node_batch_size):\n",
    "        end = min(start + node_batch_size, total_nodes)\n",
    "        nodes = []\n",
    "\n",
    "        for i in range(start, end):\n",
    "            node = {\n",
    "                'labels': ['Transaction'],\n",
    "                'x': data.x[i].tolist(),\n",
    "                'y': data.y[i].item(),\n",
    "                'orig_id': i,\n",
    "            }\n",
    "            nodes.append(node)\n",
    "\n",
    "        try:\n",
    "            response = session.post(node_url, json=nodes, headers=headers)\n",
    "            response.raise_for_status()\n",
    "            new_node_ids = response.json()\n",
    "            with open(node_file, 'a') as file:\n",
    "                for i, node in enumerate(new_node_ids):\n",
    "                    json_line = json.dumps({'orig_id': start + i, 'new_id': node['id']})\n",
    "                    file.write(json_line + '\\n')\n",
    "            print(f\"Nodes {start} to {end - 1} created successfully\")\n",
    "        except requests.exceptions.RequestException as e:\n",
    "            print(f\"Failed to create nodes {start} to {end - 1}: {e}\")"
   ]
  },
  {
   "cell_type": "code",
   "execution_count": 8,
   "metadata": {},
   "outputs": [
    {
     "name": "stdout",
     "output_type": "stream",
     "text": [
      "Edges 0 to 9999 created successfully\n",
      "Edges 10000 to 19999 created successfully\n",
      "Edges 20000 to 29999 created successfully\n",
      "Edges 30000 to 39999 created successfully\n",
      "Edges 40000 to 49999 created successfully\n",
      "Edges 50000 to 59999 created successfully\n",
      "Edges 60000 to 69999 created successfully\n",
      "Edges 70000 to 79999 created successfully\n",
      "Edges 80000 to 89999 created successfully\n",
      "Edges 90000 to 99999 created successfully\n",
      "Edges 100000 to 109999 created successfully\n",
      "Edges 110000 to 119999 created successfully\n",
      "Edges 120000 to 129999 created successfully\n",
      "Edges 130000 to 139999 created successfully\n",
      "Edges 140000 to 149999 created successfully\n",
      "Edges 150000 to 159999 created successfully\n",
      "Edges 160000 to 169999 created successfully\n",
      "Edges 170000 to 179999 created successfully\n",
      "Edges 180000 to 189999 created successfully\n",
      "Edges 190000 to 199999 created successfully\n",
      "Edges 200000 to 209999 created successfully\n",
      "Edges 210000 to 219999 created successfully\n",
      "Edges 220000 to 229999 created successfully\n",
      "Edges 230000 to 234354 created successfully\n"
     ]
    }
   ],
   "source": [
    "node_id_map = load_node_id_map('transaction_nodes.jsonl')\n",
    "\n",
    "edge_index = data.edge_index\n",
    "edge_batch_size = 10_000\n",
    "\n",
    "edge_file = 'transaction_edges.jsonl'\n",
    "total_edges = edge_index.size(1)\n",
    "start_index = 0\n",
    "if os.path.exists(edge_file):\n",
    "    last_line = read_n_to_last_line(edge_file, 1)\n",
    "    start_index = json.loads(last_line)['orig_id'] + 1\n",
    "\n",
    "with requests.Session() as session:\n",
    "    for start in range(start_index, total_edges, edge_batch_size):\n",
    "        end = min(start + edge_batch_size, total_edges)\n",
    "        edges = []\n",
    "\n",
    "        for i in range(start, end):\n",
    "            src_index = edge_index[0, i].item()\n",
    "            dst_index = edge_index[1, i].item()\n",
    "\n",
    "            src_id = get_node_id(node_id_map, src_index)\n",
    "            dst_id = get_node_id(node_id_map, dst_index)\n",
    "\n",
    "            if src_id is not None and dst_id is not None:\n",
    "                edge = {\n",
    "                    'src': src_id,\n",
    "                    'dst': dst_id,\n",
    "                    'orig_id': i,\n",
    "                }\n",
    "                edges.append(edge)\n",
    "\n",
    "        try:\n",
    "            response = session.post(edge_url, json=edges, headers=headers)\n",
    "            response.raise_for_status()\n",
    "            edge_ids = response.json()\n",
    "            with open(edge_file, 'a') as file:\n",
    "                for i, edge in enumerate(edge_ids):\n",
    "                    json_line = json.dumps({'orig_id': start + i, 'new_id': edge['id']})\n",
    "                    file.write(json_line + '\\n')\n",
    "            print(f\"Edges {start} to {end - 1} created successfully\")\n",
    "        except requests.exceptions.RequestException as e:\n",
    "            print(f\"Failed to create edges {start} to {end - 1}: {e}\")\n"
   ]
  }
 ],
 "metadata": {
  "kernelspec": {
   "display_name": ".venv",
   "language": "python",
   "name": "python3"
  },
  "language_info": {
   "codemirror_mode": {
    "name": "ipython",
    "version": 3
   },
   "file_extension": ".py",
   "mimetype": "text/x-python",
   "name": "python",
   "nbconvert_exporter": "python",
   "pygments_lexer": "ipython3",
   "version": "3.11.6"
  }
 },
 "nbformat": 4,
 "nbformat_minor": 2
}
