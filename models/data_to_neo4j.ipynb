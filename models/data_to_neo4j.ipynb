{
 "cells": [
  {
   "cell_type": "code",
   "execution_count": 1,
   "metadata": {},
   "outputs": [],
   "source": [
    "import os\n",
    "\n",
    "if os.path.basename(os.getcwd()) != 'graph':\n",
    "    os.chdir('..')"
   ]
  },
  {
   "cell_type": "code",
   "execution_count": 2,
   "metadata": {},
   "outputs": [],
   "source": [
    "from config import Config\n",
    "\n",
    "data_dir = 'data/transaction'\n",
    "base_url = Config.BASE_URL\n",
    "\n",
    "node_url = f\"{base_url}/api/nodes/batch\"\n",
    "edge_url = f\"{base_url}/api/edges/batch\"\n",
    "\n",
    "node_file = f'{data_dir}/transaction_nodes.jsonl'\n",
    "edge_file = f'{data_dir}/transaction_edges.jsonl'\n",
    "\n",
    "batch_size = 10_000"
   ]
  },
  {
   "cell_type": "code",
   "execution_count": 3,
   "metadata": {},
   "outputs": [],
   "source": [
    "from torch_geometric.datasets import EllipticBitcoinDataset\n",
    "\n",
    "dataset_root = f'{data_dir}/EllipticBitcoin'\n",
    "dataset = EllipticBitcoinDataset(dataset_root)\n",
    "data = dataset[0]"
   ]
  },
  {
   "cell_type": "code",
   "execution_count": 4,
   "metadata": {},
   "outputs": [],
   "source": [
    "from models.helpers import upload_transaction_nodes\n",
    "\n",
    "upload_transaction_nodes(data, node_url, node_file, batch_size)"
   ]
  },
  {
   "cell_type": "code",
   "execution_count": 5,
   "metadata": {},
   "outputs": [],
   "source": [
    "from models.helpers import load_node_id_map, upload_transaction_edges\n",
    "\n",
    "node_id_map = load_node_id_map(node_file)\n",
    "\n",
    "upload_transaction_edges(data, edge_url, edge_file, batch_size, node_id_map)"
   ]
  }
 ],
 "metadata": {
  "kernelspec": {
   "display_name": ".venv",
   "language": "python",
   "name": "python3"
  },
  "language_info": {
   "codemirror_mode": {
    "name": "ipython",
    "version": 3
   },
   "file_extension": ".py",
   "mimetype": "text/x-python",
   "name": "python",
   "nbconvert_exporter": "python",
   "pygments_lexer": "ipython3",
   "version": "3.11.6"
  }
 },
 "nbformat": 4,
 "nbformat_minor": 2
}
