{
 "cells": [
  {
   "cell_type": "code",
   "execution_count": 1,
   "metadata": {},
   "outputs": [],
   "source": [
    "from torch_geometric.datasets import EllipticBitcoinDataset\n",
    "\n",
    "# Load the dataset\n",
    "root = 'EllipticBitcoin'\n",
    "dataset = EllipticBitcoinDataset(root)\n",
    "data = dataset[0]"
   ]
  },
  {
   "cell_type": "code",
   "execution_count": 2,
   "metadata": {},
   "outputs": [
    {
     "data": {
      "text/plain": [
       "torch.Size([203769, 165])"
      ]
     },
     "execution_count": 2,
     "metadata": {},
     "output_type": "execute_result"
    }
   ],
   "source": [
    "data.x.shape"
   ]
  },
  {
   "cell_type": "code",
   "execution_count": 3,
   "metadata": {},
   "outputs": [
    {
     "data": {
      "text/plain": [
       "tensor([[     0,      2,      4,  ..., 201921, 201480, 201954],\n",
       "        [     1,      3,      5,  ..., 202042, 201368, 201756]])"
      ]
     },
     "execution_count": 3,
     "metadata": {},
     "output_type": "execute_result"
    }
   ],
   "source": [
    "data.edge_index"
   ]
  },
  {
   "cell_type": "code",
   "execution_count": 4,
   "metadata": {},
   "outputs": [],
   "source": [
    "from neo4j import GraphDatabase\n",
    "\n",
    "uri = \"bolt://localhost:7687\"\n",
    "driver = GraphDatabase.driver(uri, auth=(\"neo4j\", \"k59D5ftw^N^WUm\"))\n",
    "\n",
    "cypher_query = '''\n",
    "UNWIND $items AS item\n",
    "MERGE (a:Transaction {id: item.id})\n",
    "SET a.features = item.features, a.label = item.label\n",
    "WITH a, item.edges AS edges\n",
    "UNWIND edges AS edge\n",
    "MERGE (b:Transaction {id: edge.dst_id})\n",
    "MERGE (a)-[:PAYMENT]->(b)\n",
    "'''\n",
    "\n",
    "def create_graph(tx, batch):\n",
    "    tx.run(cypher_query, items=batch)\n",
    "\n",
    "# Define batch size\n",
    "batch_size = 1000\n",
    "\n",
    "# Upload nodes and edges in batches\n",
    "with driver.session() as session:\n",
    "    for i in range(0, data.num_nodes, batch_size):\n",
    "        batch = []\n",
    "        for node_id in range(i, min(i + batch_size, data.num_nodes)):\n",
    "            node = {\"id\": node_id, \"features\": data.x[node_id].tolist(), \"label\": data.y[node_id].item(), \"edges\": []}\n",
    "            node_edges = [{\"src_id\": node_id, \"dst_id\": dst.item()} for dst in data.edge_index[1, data.edge_index[0] == node_id]]\n",
    "            node[\"edges\"] = node_edges\n",
    "            batch.append(node)\n",
    "        session.execute_write(create_graph, batch)\n",
    "\n",
    "driver.close()"
   ]
  },
  {
   "cell_type": "code",
   "execution_count": null,
   "metadata": {},
   "outputs": [],
   "source": [
    "import requests\n",
    "\n",
    "# Define batch size\n",
    "batch_size = 1000\n",
    "\n",
    "# Upload nodes and edges in batches\n",
    "url = \"http://localhost:5004/api/nodes/batch\"\n",
    "headers = {\"Content-Type\": \"application/json\"}\n",
    "\n",
    "node_label = \"Transaction\"\n",
    "edge_label = \"PAYMENT\"\n",
    "\n",
    "for i in range(0, data.num_nodes, batch_size):\n",
    "    batch = []\n",
    "    for node_id in range(i, min(i + batch_size, data.num_nodes)):\n",
    "        node = {\"id\": node_id, \"features\": data.x[node_id].tolist(), \"label\": data.y[node_id].item(), \"edges\": []}\n",
    "        node_edges = [{\"src_id\": node_id, \"dst_id\": dst.item()} for dst in data.edge_index[1, data.edge_index[0] == node_id]]\n",
    "        node[\"edges\"] = node_edges\n",
    "        batch.append(node)\n",
    "    \n",
    "    response = requests.post(url, json={'batch': batch, 'node_label': node_label, 'edge_label': edge_label}, headers=headers)\n",
    "    if response.status_code != 200:\n",
    "        print(f\"Failed to upload batch starting at {i}: {response.json()}\")\n",
    "\n",
    "driver.close()\n"
   ]
  },
  {
   "cell_type": "code",
   "execution_count": 8,
   "metadata": {},
   "outputs": [
    {
     "name": "stdout",
     "output_type": "stream",
     "text": [
      "UUID: Time taken = 22.42s, Collisions = 0\n",
      "Base64: Time taken = 8.01s, Collisions = 0\n",
      "Hashlib: Time taken = 13.44s, Collisions = 0\n",
      "ShortUUID: Time taken = 60.21s, Collisions = 0\n",
      "Time-based: Time taken = 22.18s, Collisions = 0\n"
     ]
    }
   ],
   "source": [
    "import time\n",
    "import uuid\n",
    "import base64\n",
    "import os\n",
    "import hashlib\n",
    "import shortuuid\n",
    "import random\n",
    "import string\n",
    "\n",
    "# Function to test UUID\n",
    "def test_uuid(n):\n",
    "    ids = set()\n",
    "    start_time = time.time()\n",
    "    for _ in range(n):\n",
    "        unique_id = uuid.uuid4().hex\n",
    "        ids.add(unique_id)\n",
    "    end_time = time.time()\n",
    "    return end_time - start_time, len(ids)\n",
    "\n",
    "# Function to test Base64\n",
    "def test_base64(n):\n",
    "    ids = set()\n",
    "    start_time = time.time()\n",
    "    for _ in range(n):\n",
    "        random_bytes = os.urandom(16)\n",
    "        unique_id = base64.urlsafe_b64encode(random_bytes).rstrip(b'=').decode('utf-8')\n",
    "        ids.add(unique_id)\n",
    "    end_time = time.time()\n",
    "    return end_time - start_time, len(ids)\n",
    "\n",
    "# Function to test Hashlib\n",
    "def test_hashlib(n):\n",
    "    ids = set()\n",
    "    start_time = time.time()\n",
    "    for _ in range(n):\n",
    "        random_seed = os.urandom(16)\n",
    "        unique_id = hashlib.sha256(random_seed).hexdigest()\n",
    "        ids.add(unique_id)\n",
    "    end_time = time.time()\n",
    "    return end_time - start_time, len(ids)\n",
    "\n",
    "# Function to test ShortUUID\n",
    "def test_shortuuid(n):\n",
    "    ids = set()\n",
    "    start_time = time.time()\n",
    "    for _ in range(n):\n",
    "        unique_id = shortuuid.uuid()\n",
    "        ids.add(unique_id)\n",
    "    end_time = time.time()\n",
    "    return end_time - start_time, len(ids)\n",
    "\n",
    "# Function to test Time-based IDs\n",
    "def test_time_based(n):\n",
    "    ids = set()\n",
    "    start_time = time.time()\n",
    "    for _ in range(n):\n",
    "        timestamp = str(int(time.time() * 1000))\n",
    "        random_string = ''.join(random.choices(string.ascii_letters + string.digits, k=6))\n",
    "        unique_id = timestamp + random_string\n",
    "        ids.add(unique_id)\n",
    "    end_time = time.time()\n",
    "    return end_time - start_time, len(ids)\n",
    "\n",
    "# Number of IDs to generate for each test\n",
    "n = 10_000_000\n",
    "\n",
    "# Run tests\n",
    "uuid_time, uuid_count = test_uuid(n)\n",
    "base64_time, base64_count = test_base64(n)\n",
    "hashlib_time, hashlib_count = test_hashlib(n)\n",
    "shortuuid_time, shortuuid_count = test_shortuuid(n)\n",
    "time_based_time, time_based_count = test_time_based(n)\n",
    "\n",
    "# Print results\n",
    "print(f\"UUID: Time taken = {uuid_time:.2f}s, Collisions = {n - uuid_count}\")\n",
    "print(f\"Base64: Time taken = {base64_time:.2f}s, Collisions = {n - base64_count}\")\n",
    "print(f\"Hashlib: Time taken = {hashlib_time:.2f}s, Collisions = {n - hashlib_count}\")\n",
    "print(f\"ShortUUID: Time taken = {shortuuid_time:.2f}s, Collisions = {n - shortuuid_count}\")\n",
    "print(f\"Time-based: Time taken = {time_based_time:.2f}s, Collisions = {n - time_based_count}\")\n"
   ]
  },
  {
   "cell_type": "code",
   "execution_count": 20,
   "metadata": {},
   "outputs": [
    {
     "data": {
      "text/plain": [
       "'bqjXN8RjXYemoSG4'"
      ]
     },
     "execution_count": 20,
     "metadata": {},
     "output_type": "execute_result"
    }
   ],
   "source": [
    "shortuuid.ShortUUID().random(length=16)"
   ]
  },
  {
   "cell_type": "code",
   "execution_count": 23,
   "metadata": {},
   "outputs": [
    {
     "data": {
      "text/plain": [
       "'1'"
      ]
     },
     "execution_count": 23,
     "metadata": {},
     "output_type": "execute_result"
    }
   ],
   "source": [
    "\"1\".lower()"
   ]
  },
  {
   "cell_type": "code",
   "execution_count": null,
   "metadata": {},
   "outputs": [],
   "source": []
  }
 ],
 "metadata": {
  "kernelspec": {
   "display_name": ".venv",
   "language": "python",
   "name": "python3"
  },
  "language_info": {
   "codemirror_mode": {
    "name": "ipython",
    "version": 3
   },
   "file_extension": ".py",
   "mimetype": "text/x-python",
   "name": "python",
   "nbconvert_exporter": "python",
   "pygments_lexer": "ipython3",
   "version": "3.11.6"
  }
 },
 "nbformat": 4,
 "nbformat_minor": 2
}
