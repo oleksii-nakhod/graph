{
 "cells": [
  {
   "cell_type": "code",
   "execution_count": 1,
   "metadata": {},
   "outputs": [],
   "source": [
    "from torch_geometric.datasets import EllipticBitcoinDataset\n",
    "\n",
    "# Load the dataset\n",
    "root = 'EllipticBitcoin'\n",
    "dataset = EllipticBitcoinDataset(root)\n",
    "data = dataset[0]"
   ]
  },
  {
   "cell_type": "code",
   "execution_count": 2,
   "metadata": {},
   "outputs": [
    {
     "data": {
      "text/plain": [
       "torch.Size([203769, 165])"
      ]
     },
     "execution_count": 2,
     "metadata": {},
     "output_type": "execute_result"
    }
   ],
   "source": [
    "data.x.shape"
   ]
  },
  {
   "cell_type": "code",
   "execution_count": 4,
   "metadata": {},
   "outputs": [
    {
     "data": {
      "text/plain": [
       "tensor([[-0.1715, -0.1847, -1.2014,  ..., -0.0975, -0.1206, -0.1198],\n",
       "        [-0.1715, -0.1847, -1.2014,  ..., -0.0975, -0.1206, -0.1198],\n",
       "        [-0.1721, -0.1847, -1.2014,  ..., -0.1837, -0.1206, -0.1198],\n",
       "        ...,\n",
       "        [-0.1720, -0.0782,  1.0186,  ..., -0.0975, -0.1206, -0.1198],\n",
       "        [-0.1728, -0.1766,  1.0186,  ..., -0.1406,  1.5197,  1.5214],\n",
       "        [-0.0120, -0.1323,  0.4636,  ..., -0.1406,  1.5197,  1.5214]])"
      ]
     },
     "execution_count": 4,
     "metadata": {},
     "output_type": "execute_result"
    }
   ],
   "source": [
    "data.x"
   ]
  },
  {
   "cell_type": "code",
   "execution_count": 5,
   "metadata": {},
   "outputs": [
    {
     "data": {
      "text/plain": [
       "tensor([[     0,      2,      4,  ..., 201921, 201480, 201954],\n",
       "        [     1,      3,      5,  ..., 202042, 201368, 201756]])"
      ]
     },
     "execution_count": 5,
     "metadata": {},
     "output_type": "execute_result"
    }
   ],
   "source": [
    "data.edge_index"
   ]
  },
  {
   "cell_type": "code",
   "execution_count": 4,
   "metadata": {},
   "outputs": [],
   "source": [
    "from neo4j import GraphDatabase\n",
    "\n",
    "uri = \"bolt://localhost:7687\"\n",
    "driver = GraphDatabase.driver(uri, auth=(\"neo4j\", \"k59D5ftw^N^WUm\"))\n",
    "\n",
    "cypher_query = '''\n",
    "UNWIND $items AS item\n",
    "MERGE (a:Transaction {id: item.id})\n",
    "SET a.features = item.features, a.label = item.label\n",
    "WITH a, item.edges AS edges\n",
    "UNWIND edges AS edge\n",
    "MERGE (b:Transaction {id: edge.dst_id})\n",
    "MERGE (a)-[:PAYMENT]->(b)\n",
    "'''\n",
    "\n",
    "def create_graph(tx, batch):\n",
    "    tx.run(cypher_query, items=batch)\n",
    "\n",
    "# Define batch size\n",
    "batch_size = 1000\n",
    "\n",
    "# Upload nodes and edges in batches\n",
    "with driver.session() as session:\n",
    "    for i in range(0, data.num_nodes, batch_size):\n",
    "        batch = []\n",
    "        for node_id in range(i, min(i + batch_size, data.num_nodes)):\n",
    "            node = {\"id\": node_id, \"features\": data.x[node_id].tolist(), \"label\": data.y[node_id].item(), \"edges\": []}\n",
    "            node_edges = [{\"src_id\": node_id, \"dst_id\": dst.item()} for dst in data.edge_index[1, data.edge_index[0] == node_id]]\n",
    "            node[\"edges\"] = node_edges\n",
    "            batch.append(node)\n",
    "        session.execute_write(create_graph, batch)\n",
    "\n",
    "driver.close()"
   ]
  },
  {
   "cell_type": "code",
   "execution_count": null,
   "metadata": {},
   "outputs": [],
   "source": [
    "import requests\n",
    "\n",
    "# Define batch size\n",
    "batch_size = 1000\n",
    "\n",
    "# Upload nodes and edges in batches\n",
    "url = \"http://localhost:5004/api/nodes/batch\"\n",
    "headers = {\"Content-Type\": \"application/json\"}\n",
    "\n",
    "node_label = \"Transaction\"\n",
    "edge_label = \"PAYMENT\"\n",
    "\n",
    "for i in range(0, data.num_nodes, batch_size):\n",
    "    batch = []\n",
    "    for node_id in range(i, min(i + batch_size, data.num_nodes)):\n",
    "        node = {\"id\": node_id, \"features\": data.x[node_id].tolist(), \"label\": data.y[node_id].item(), \"edges\": []}\n",
    "        node_edges = [{\"src_id\": node_id, \"dst_id\": dst.item()} for dst in data.edge_index[1, data.edge_index[0] == node_id]]\n",
    "        node[\"edges\"] = node_edges\n",
    "        batch.append(node)\n",
    "    \n",
    "    response = requests.post(url, json={'batch': batch, 'node_label': node_label, 'edge_label': edge_label}, headers=headers)\n",
    "    if response.status_code != 200:\n",
    "        print(f\"Failed to upload batch starting at {i}: {response.json()}\")\n",
    "\n",
    "driver.close()\n"
   ]
  },
  {
   "cell_type": "code",
   "execution_count": 20,
   "metadata": {},
   "outputs": [
    {
     "data": {
      "text/plain": [
       "'bqjXN8RjXYemoSG4'"
      ]
     },
     "execution_count": 20,
     "metadata": {},
     "output_type": "execute_result"
    }
   ],
   "source": [
    "shortuuid.ShortUUID().random(length=16)"
   ]
  },
  {
   "cell_type": "code",
   "execution_count": 23,
   "metadata": {},
   "outputs": [
    {
     "data": {
      "text/plain": [
       "'1'"
      ]
     },
     "execution_count": 23,
     "metadata": {},
     "output_type": "execute_result"
    }
   ],
   "source": [
    "\"1\".lower()"
   ]
  },
  {
   "cell_type": "code",
   "execution_count": null,
   "metadata": {},
   "outputs": [],
   "source": []
  }
 ],
 "metadata": {
  "kernelspec": {
   "display_name": ".venv",
   "language": "python",
   "name": "python3"
  },
  "language_info": {
   "codemirror_mode": {
    "name": "ipython",
    "version": 3
   },
   "file_extension": ".py",
   "mimetype": "text/x-python",
   "name": "python",
   "nbconvert_exporter": "python",
   "pygments_lexer": "ipython3",
   "version": "3.11.6"
  }
 },
 "nbformat": 4,
 "nbformat_minor": 2
}
